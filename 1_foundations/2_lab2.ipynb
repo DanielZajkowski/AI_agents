{
 "cells": [
  {
   "cell_type": "markdown",
   "metadata": {},
   "source": [
    "## Welcome to the Second Lab - Week 1, Day 3\n",
    "\n",
    "Today we will work with lots of models! This is a way to get comfortable with APIs."
   ]
  },
  {
   "cell_type": "markdown",
   "metadata": {},
   "source": [
    "<table style=\"margin: 0; text-align: left; width:100%\">\n",
    "    <tr>\n",
    "        <td style=\"width: 150px; height: 150px; vertical-align: middle;\">\n",
    "            <img src=\"../assets/stop.png\" width=\"150\" height=\"150\" style=\"display: block;\" />\n",
    "        </td>\n",
    "        <td>\n",
    "            <h2 style=\"color:#ff7800;\">Important point - please read</h2>\n",
    "            <span style=\"color:#ff7800;\">The way I collaborate with you may be different to other courses you've taken. I prefer not to type code while you watch. Rather, I execute Jupyter Labs, like this, and give you an intuition for what's going on. My suggestion is that you carefully execute this yourself, <b>after</b> watching the lecture. Add print statements to understand what's going on, and then come up with your own variations.<br/><br/>If you have time, I'd love it if you submit a PR for changes in the community_contributions folder - instructions in the resources. Also, if you have a Github account, use this to showcase your variations. Not only is this essential practice, but it demonstrates your skills to others, including perhaps future clients or employers...\n",
    "            </span>\n",
    "        </td>\n",
    "    </tr>\n",
    "</table>"
   ]
  },
  {
   "cell_type": "code",
   "execution_count": 1,
   "metadata": {},
   "outputs": [],
   "source": [
    "# Start with imports - ask ChatGPT to explain any package that you don't know\n",
    "\n",
    "import os\n",
    "import json\n",
    "from dotenv import load_dotenv\n",
    "from openai import OpenAI\n",
    "from anthropic import Anthropic\n",
    "from IPython.display import Markdown, display"
   ]
  },
  {
   "cell_type": "code",
   "execution_count": 2,
   "metadata": {},
   "outputs": [
    {
     "data": {
      "text/plain": [
       "True"
      ]
     },
     "execution_count": 2,
     "metadata": {},
     "output_type": "execute_result"
    }
   ],
   "source": [
    "# Always remember to do this!\n",
    "load_dotenv(override=True)"
   ]
  },
  {
   "cell_type": "code",
   "execution_count": null,
   "metadata": {},
   "outputs": [],
   "source": [
    "# Print the key prefixes to help with any debugging\n",
    "\n",
    "openai_api_key = os.getenv('OPENAI_API_KEY')\n",
    "anthropic_api_key = os.getenv('ANTHROPIC_API_KEY')\n",
    "google_api_key = os.getenv('GOOGLE_API_KEY')\n",
    "deepseek_api_key = os.getenv('DEEPSEEK_API_KEY')\n",
    "groq_api_key = os.getenv('GROQ_API_KEY')\n",
    "\n",
    "if openai_api_key:\n",
    "    print(f\"OpenAI API Key exists and begins {openai_api_key[:8]}\")\n",
    "else:\n",
    "    print(\"OpenAI API Key not set\")\n",
    "    \n",
    "if anthropic_api_key:\n",
    "    print(f\"Anthropic API Key exists and begins {anthropic_api_key[:7]}\")\n",
    "else:\n",
    "    print(\"Anthropic API Key not set (and this is optional)\")\n",
    "\n",
    "if google_api_key:\n",
    "    print(f\"Google API Key exists and begins {google_api_key[:2]}\")\n",
    "else:\n",
    "    print(\"Google API Key not set (and this is optional)\")\n",
    "\n",
    "if deepseek_api_key:\n",
    "    print(f\"DeepSeek API Key exists and begins {deepseek_api_key[:3]}\")\n",
    "else:\n",
    "    print(\"DeepSeek API Key not set (and this is optional)\")\n",
    "\n",
    "if groq_api_key:\n",
    "    print(f\"Groq API Key exists and begins {groq_api_key[:4]}\")\n",
    "else:\n",
    "    print(\"Groq API Key not set (and this is optional)\")"
   ]
  },
  {
   "cell_type": "code",
   "execution_count": 4,
   "metadata": {},
   "outputs": [],
   "source": [
    "request = \"Please come up with a challenging, nuanced question that I can ask a number of LLMs to evaluate their intelligence. \"\n",
    "request += \"Answer only with the question, no explanation.\"\n",
    "messages = [{\"role\": \"user\", \"content\": request}]"
   ]
  },
  {
   "cell_type": "code",
   "execution_count": 5,
   "metadata": {},
   "outputs": [
    {
     "data": {
      "text/plain": [
       "[{'role': 'user',\n",
       "  'content': 'Please come up with a challenging, nuanced question that I can ask a number of LLMs to evaluate their intelligence. Answer only with the question, no explanation.'}]"
      ]
     },
     "execution_count": 5,
     "metadata": {},
     "output_type": "execute_result"
    }
   ],
   "source": [
    "messages"
   ]
  },
  {
   "cell_type": "code",
   "execution_count": null,
   "metadata": {},
   "outputs": [],
   "source": [
    "openai = OpenAI()\n",
    "response = openai.chat.completions.create(\n",
    "    model=\"gpt-4o-mini\",\n",
    "    messages=messages,\n",
    ")\n",
    "question = response.choices[0].message.content\n",
    "print(question)\n"
   ]
  },
  {
   "cell_type": "code",
   "execution_count": null,
   "metadata": {},
   "outputs": [],
   "source": [
    "competitors = []\n",
    "answers = []\n",
    "messages = [{\"role\": \"user\", \"content\": question}]"
   ]
  },
  {
   "cell_type": "code",
   "execution_count": null,
   "metadata": {},
   "outputs": [],
   "source": [
    "# The API we know well\n",
    "\n",
    "model_name = \"gpt-4o-mini\"\n",
    "\n",
    "response = openai.chat.completions.create(model=model_name, messages=messages)\n",
    "answer = response.choices[0].message.content\n",
    "\n",
    "display(Markdown(answer))\n",
    "competitors.append(model_name)\n",
    "answers.append(answer)"
   ]
  },
  {
   "cell_type": "code",
   "execution_count": null,
   "metadata": {},
   "outputs": [],
   "source": [
    "# Anthropic has a slightly different API, and Max Tokens is required\n",
    "\n",
    "model_name = \"claude-3-7-sonnet-latest\"\n",
    "\n",
    "claude = Anthropic()\n",
    "response = claude.messages.create(model=model_name, messages=messages, max_tokens=1000)\n",
    "answer = response.content[0].text\n",
    "\n",
    "display(Markdown(answer))\n",
    "competitors.append(model_name)\n",
    "answers.append(answer)"
   ]
  },
  {
   "cell_type": "code",
   "execution_count": null,
   "metadata": {},
   "outputs": [],
   "source": [
    "gemini = OpenAI(api_key=google_api_key, base_url=\"https://generativelanguage.googleapis.com/v1beta/openai/\")\n",
    "model_name = \"gemini-2.0-flash\"\n",
    "\n",
    "response = gemini.chat.completions.create(model=model_name, messages=messages)\n",
    "answer = response.choices[0].message.content\n",
    "\n",
    "display(Markdown(answer))\n",
    "competitors.append(model_name)\n",
    "answers.append(answer)"
   ]
  },
  {
   "cell_type": "code",
   "execution_count": null,
   "metadata": {},
   "outputs": [],
   "source": [
    "deepseek = OpenAI(api_key=deepseek_api_key, base_url=\"https://api.deepseek.com/v1\")\n",
    "model_name = \"deepseek-chat\"\n",
    "\n",
    "response = deepseek.chat.completions.create(model=model_name, messages=messages)\n",
    "answer = response.choices[0].message.content\n",
    "\n",
    "display(Markdown(answer))\n",
    "competitors.append(model_name)\n",
    "answers.append(answer)"
   ]
  },
  {
   "cell_type": "code",
   "execution_count": null,
   "metadata": {},
   "outputs": [],
   "source": [
    "groq = OpenAI(api_key=groq_api_key, base_url=\"https://api.groq.com/openai/v1\")\n",
    "model_name = \"llama-3.3-70b-versatile\"\n",
    "\n",
    "response = groq.chat.completions.create(model=model_name, messages=messages)\n",
    "answer = response.choices[0].message.content\n",
    "\n",
    "display(Markdown(answer))\n",
    "competitors.append(model_name)\n",
    "answers.append(answer)\n"
   ]
  },
  {
   "cell_type": "markdown",
   "metadata": {},
   "source": [
    "## For the next cell, we will use Ollama\n",
    "\n",
    "Ollama runs a local web service that gives an OpenAI compatible endpoint,  \n",
    "and runs models locally using high performance C++ code.\n",
    "\n",
    "If you don't have Ollama, install it here by visiting https://ollama.com then pressing Download and following the instructions.\n",
    "\n",
    "After it's installed, you should be able to visit here: http://localhost:11434 and see the message \"Ollama is running\"\n",
    "\n",
    "You might need to restart Cursor (and maybe reboot). Then open a Terminal (control+\\`) and run `ollama serve`\n",
    "\n",
    "Useful Ollama commands (run these in the terminal, or with an exclamation mark in this notebook):\n",
    "\n",
    "`ollama pull <model_name>` downloads a model locally  \n",
    "`ollama ls` lists all the models you've downloaded  \n",
    "`ollama rm <model_name>` deletes the specified model from your downloads"
   ]
  },
  {
   "cell_type": "markdown",
   "metadata": {},
   "source": [
    "<table style=\"margin: 0; text-align: left; width:100%\">\n",
    "    <tr>\n",
    "        <td style=\"width: 150px; height: 150px; vertical-align: middle;\">\n",
    "            <img src=\"../assets/stop.png\" width=\"150\" height=\"150\" style=\"display: block;\" />\n",
    "        </td>\n",
    "        <td>\n",
    "            <h2 style=\"color:#ff7800;\">Super important - ignore me at your peril!</h2>\n",
    "            <span style=\"color:#ff7800;\">The model called <b>llama3.3</b> is FAR too large for home computers - it's not intended for personal computing and will consume all your resources! Stick with the nicely sized <b>llama3.2</b> or <b>llama3.2:1b</b> and if you want larger, try llama3.1 or smaller variants of Qwen, Gemma, Phi or DeepSeek. See the <A href=\"https://ollama.com/models\">the Ollama models page</a> for a full list of models and sizes.\n",
    "            </span>\n",
    "        </td>\n",
    "    </tr>\n",
    "</table>"
   ]
  },
  {
   "cell_type": "code",
   "execution_count": null,
   "metadata": {},
   "outputs": [],
   "source": [
    "!ollama pull llama3.2"
   ]
  },
  {
   "cell_type": "code",
   "execution_count": 12,
   "metadata": {},
   "outputs": [],
   "source": [
    "request = \"Please come up with a challenging, nuanced question that I can ask a number of LLMs to evaluate their intelligence. \"\n",
    "request += \"Answer only with the question, no explanation.\"\n",
    "messages = [{\"role\": \"user\", \"content\": request}]\n",
    "\n",
    "from ollama import chat           # optional: to test client connectivity\n",
    "response = chat(model=\"llama3.2\", messages=messages)\n",
    "question: str = response.message.content\n",
    "\n",
    "competitors = []\n",
    "answers = []\n",
    "messages = [{\"role\": \"user\", \"content\": question}]"
   ]
  },
  {
   "cell_type": "code",
   "execution_count": 13,
   "metadata": {},
   "outputs": [
    {
     "data": {
      "text/markdown": [
       "In such a scenario, the therapist should employ a collaborative and gradual approach to help the individual adapt to the new medication and minimize potential negative consequences. Here's a step-by-step guide for the therapist:\n",
       "\n",
       "1. **Preparation**:\n",
       "\t* Before announcing the changes, review the individual's treatment history, current symptoms, and previous responses to different medications.\n",
       "\t* Ensure that the new mood stabilizer is selected based on evidence-based guidelines and the individual's specific needs.\n",
       "2. **Informed Consent**:\n",
       "\t* Explain the reasons for changing the medication regimen in a clear and concise manner, ensuring the individual understands the benefits and potential risks of the new treatment.\n",
       "\t* Obtain informed consent, addressing any questions or concerns the person may have.\n",
       "3. **Gradual Transition**:\n",
       "\t* Start by tapering off the atypical antipsychotic at least 2-4 weeks before switching to the mood stabilizer, under close supervision to avoid withdrawal symptoms.\n",
       "\t* Monitor the individual's mental health symptoms during this period and adjust the transition as needed.\n",
       "4. **Communication**:\n",
       "\t* Schedule regular check-ins with the individual to monitor their progress, address concerns, and provide ongoing support.\n",
       "\t* Encourage open communication about any side effects, changes in mood or thought patterns, or difficulties adjusting to the new medication.\n",
       "5. **Coping Mechanism Re-Alignment**:\n",
       "\t* Work with the individual to reassess and adjust their daily routine, coping mechanisms, and self-care strategies as needed to accommodate the new medication.\n",
       "\t* Encourage them to implement relaxation techniques, stress management strategies, and creative outlets to help mitigate any potential side effects or mood swings.\n",
       "6. **Education and Support**:\n",
       "\t* Provide clear and concise information about the new medication, its potential effects, and monitoring procedures.\n",
       "\t* Introduce the individual to relevant resources, such as support groups, online forums, or mental health professionals specializing in mood stabilizer use.\n",
       "7. **Monitoring and Adjustment**:\n",
       "\t* Regularly review the individual's progress, adjusting the treatment plan as needed based on their response to the new medication.\n",
       "\t* Collaborate with other healthcare providers (e.g., primary care physician, specialized nurse practitioners) to ensure comprehensive care.\n",
       "\n",
       "By taking a gradual, collaborative, and informed approach, the therapist can help the individual adapt to the change in treatment protocol, manage potential side effects, and minimize negative consequences on their mental health."
      ],
      "text/plain": [
       "<IPython.core.display.Markdown object>"
      ]
     },
     "metadata": {},
     "output_type": "display_data"
    }
   ],
   "source": [
    "ollama = OpenAI(base_url='http://localhost:11434/v1', api_key='ollama')\n",
    "model_name = \"llama3.2\"\n",
    "\n",
    "response = ollama.chat.completions.create(model=model_name, messages=messages)\n",
    "answer = response.choices[0].message.content\n",
    "\n",
    "display(Markdown(answer))\n",
    "competitors.append(model_name)\n",
    "answers.append(answer)"
   ]
  },
  {
   "cell_type": "code",
   "execution_count": 14,
   "metadata": {},
   "outputs": [
    {
     "name": "stdout",
     "output_type": "stream",
     "text": [
      "['llama3.2']\n",
      "[\"In such a scenario, the therapist should employ a collaborative and gradual approach to help the individual adapt to the new medication and minimize potential negative consequences. Here's a step-by-step guide for the therapist:\\n\\n1. **Preparation**:\\n\\t* Before announcing the changes, review the individual's treatment history, current symptoms, and previous responses to different medications.\\n\\t* Ensure that the new mood stabilizer is selected based on evidence-based guidelines and the individual's specific needs.\\n2. **Informed Consent**:\\n\\t* Explain the reasons for changing the medication regimen in a clear and concise manner, ensuring the individual understands the benefits and potential risks of the new treatment.\\n\\t* Obtain informed consent, addressing any questions or concerns the person may have.\\n3. **Gradual Transition**:\\n\\t* Start by tapering off the atypical antipsychotic at least 2-4 weeks before switching to the mood stabilizer, under close supervision to avoid withdrawal symptoms.\\n\\t* Monitor the individual's mental health symptoms during this period and adjust the transition as needed.\\n4. **Communication**:\\n\\t* Schedule regular check-ins with the individual to monitor their progress, address concerns, and provide ongoing support.\\n\\t* Encourage open communication about any side effects, changes in mood or thought patterns, or difficulties adjusting to the new medication.\\n5. **Coping Mechanism Re-Alignment**:\\n\\t* Work with the individual to reassess and adjust their daily routine, coping mechanisms, and self-care strategies as needed to accommodate the new medication.\\n\\t* Encourage them to implement relaxation techniques, stress management strategies, and creative outlets to help mitigate any potential side effects or mood swings.\\n6. **Education and Support**:\\n\\t* Provide clear and concise information about the new medication, its potential effects, and monitoring procedures.\\n\\t* Introduce the individual to relevant resources, such as support groups, online forums, or mental health professionals specializing in mood stabilizer use.\\n7. **Monitoring and Adjustment**:\\n\\t* Regularly review the individual's progress, adjusting the treatment plan as needed based on their response to the new medication.\\n\\t* Collaborate with other healthcare providers (e.g., primary care physician, specialized nurse practitioners) to ensure comprehensive care.\\n\\nBy taking a gradual, collaborative, and informed approach, the therapist can help the individual adapt to the change in treatment protocol, manage potential side effects, and minimize negative consequences on their mental health.\"]\n"
     ]
    }
   ],
   "source": [
    "# So where are we?\n",
    "\n",
    "print(competitors)\n",
    "print(answers)\n"
   ]
  },
  {
   "cell_type": "code",
   "execution_count": 15,
   "metadata": {},
   "outputs": [
    {
     "name": "stdout",
     "output_type": "stream",
     "text": [
      "Competitor: llama3.2\n",
      "\n",
      "In such a scenario, the therapist should employ a collaborative and gradual approach to help the individual adapt to the new medication and minimize potential negative consequences. Here's a step-by-step guide for the therapist:\n",
      "\n",
      "1. **Preparation**:\n",
      "\t* Before announcing the changes, review the individual's treatment history, current symptoms, and previous responses to different medications.\n",
      "\t* Ensure that the new mood stabilizer is selected based on evidence-based guidelines and the individual's specific needs.\n",
      "2. **Informed Consent**:\n",
      "\t* Explain the reasons for changing the medication regimen in a clear and concise manner, ensuring the individual understands the benefits and potential risks of the new treatment.\n",
      "\t* Obtain informed consent, addressing any questions or concerns the person may have.\n",
      "3. **Gradual Transition**:\n",
      "\t* Start by tapering off the atypical antipsychotic at least 2-4 weeks before switching to the mood stabilizer, under close supervision to avoid withdrawal symptoms.\n",
      "\t* Monitor the individual's mental health symptoms during this period and adjust the transition as needed.\n",
      "4. **Communication**:\n",
      "\t* Schedule regular check-ins with the individual to monitor their progress, address concerns, and provide ongoing support.\n",
      "\t* Encourage open communication about any side effects, changes in mood or thought patterns, or difficulties adjusting to the new medication.\n",
      "5. **Coping Mechanism Re-Alignment**:\n",
      "\t* Work with the individual to reassess and adjust their daily routine, coping mechanisms, and self-care strategies as needed to accommodate the new medication.\n",
      "\t* Encourage them to implement relaxation techniques, stress management strategies, and creative outlets to help mitigate any potential side effects or mood swings.\n",
      "6. **Education and Support**:\n",
      "\t* Provide clear and concise information about the new medication, its potential effects, and monitoring procedures.\n",
      "\t* Introduce the individual to relevant resources, such as support groups, online forums, or mental health professionals specializing in mood stabilizer use.\n",
      "7. **Monitoring and Adjustment**:\n",
      "\t* Regularly review the individual's progress, adjusting the treatment plan as needed based on their response to the new medication.\n",
      "\t* Collaborate with other healthcare providers (e.g., primary care physician, specialized nurse practitioners) to ensure comprehensive care.\n",
      "\n",
      "By taking a gradual, collaborative, and informed approach, the therapist can help the individual adapt to the change in treatment protocol, manage potential side effects, and minimize negative consequences on their mental health.\n"
     ]
    }
   ],
   "source": [
    "# It's nice to know how to use \"zip\"\n",
    "for competitor, answer in zip(competitors, answers):\n",
    "    print(f\"Competitor: {competitor}\\n\\n{answer}\")\n"
   ]
  },
  {
   "cell_type": "code",
   "execution_count": 16,
   "metadata": {},
   "outputs": [],
   "source": [
    "# Let's bring this together - note the use of \"enumerate\"\n",
    "\n",
    "together = \"\"\n",
    "for index, answer in enumerate(answers):\n",
    "    together += f\"# Response from competitor {index+1}\\n\\n\"\n",
    "    together += answer + \"\\n\\n\""
   ]
  },
  {
   "cell_type": "code",
   "execution_count": 17,
   "metadata": {},
   "outputs": [
    {
     "name": "stdout",
     "output_type": "stream",
     "text": [
      "# Response from competitor 1\n",
      "\n",
      "In such a scenario, the therapist should employ a collaborative and gradual approach to help the individual adapt to the new medication and minimize potential negative consequences. Here's a step-by-step guide for the therapist:\n",
      "\n",
      "1. **Preparation**:\n",
      "\t* Before announcing the changes, review the individual's treatment history, current symptoms, and previous responses to different medications.\n",
      "\t* Ensure that the new mood stabilizer is selected based on evidence-based guidelines and the individual's specific needs.\n",
      "2. **Informed Consent**:\n",
      "\t* Explain the reasons for changing the medication regimen in a clear and concise manner, ensuring the individual understands the benefits and potential risks of the new treatment.\n",
      "\t* Obtain informed consent, addressing any questions or concerns the person may have.\n",
      "3. **Gradual Transition**:\n",
      "\t* Start by tapering off the atypical antipsychotic at least 2-4 weeks before switching to the mood stabilizer, under close supervision to avoid withdrawal symptoms.\n",
      "\t* Monitor the individual's mental health symptoms during this period and adjust the transition as needed.\n",
      "4. **Communication**:\n",
      "\t* Schedule regular check-ins with the individual to monitor their progress, address concerns, and provide ongoing support.\n",
      "\t* Encourage open communication about any side effects, changes in mood or thought patterns, or difficulties adjusting to the new medication.\n",
      "5. **Coping Mechanism Re-Alignment**:\n",
      "\t* Work with the individual to reassess and adjust their daily routine, coping mechanisms, and self-care strategies as needed to accommodate the new medication.\n",
      "\t* Encourage them to implement relaxation techniques, stress management strategies, and creative outlets to help mitigate any potential side effects or mood swings.\n",
      "6. **Education and Support**:\n",
      "\t* Provide clear and concise information about the new medication, its potential effects, and monitoring procedures.\n",
      "\t* Introduce the individual to relevant resources, such as support groups, online forums, or mental health professionals specializing in mood stabilizer use.\n",
      "7. **Monitoring and Adjustment**:\n",
      "\t* Regularly review the individual's progress, adjusting the treatment plan as needed based on their response to the new medication.\n",
      "\t* Collaborate with other healthcare providers (e.g., primary care physician, specialized nurse practitioners) to ensure comprehensive care.\n",
      "\n",
      "By taking a gradual, collaborative, and informed approach, the therapist can help the individual adapt to the change in treatment protocol, manage potential side effects, and minimize negative consequences on their mental health.\n",
      "\n",
      "\n"
     ]
    }
   ],
   "source": [
    "print(together)"
   ]
  },
  {
   "cell_type": "code",
   "execution_count": 18,
   "metadata": {},
   "outputs": [],
   "source": [
    "judge = f\"\"\"You are judging a competition between {len(competitors)} competitors.\n",
    "Each model has been given this question:\n",
    "\n",
    "{question}\n",
    "\n",
    "Your job is to evaluate each response for clarity and strength of argument, and rank them in order of best to worst.\n",
    "Respond with JSON, and only JSON, with the following format:\n",
    "{{\"results\": [\"best competitor number\", \"second best competitor number\", \"third best competitor number\", ...]}}\n",
    "\n",
    "Here are the responses from each competitor:\n",
    "\n",
    "{together}\n",
    "\n",
    "Now respond with the JSON with the ranked order of the competitors, nothing else. Do not include markdown formatting or code blocks.\"\"\"\n"
   ]
  },
  {
   "cell_type": "code",
   "execution_count": 19,
   "metadata": {},
   "outputs": [
    {
     "name": "stdout",
     "output_type": "stream",
     "text": [
      "You are judging a competition between 1 competitors.\n",
      "Each model has been given this question:\n",
      "\n",
      "Consider a person who has been diagnosed with schizophrenia and is currently in therapy. They have developed a robust system for coping with their condition, which includes a detailed understanding of their medication regimen, a daily routine that helps manage their symptoms, and a support network of friends and family.\n",
      "\n",
      "Now, imagine that this person's therapist decides to abruptly change the treatment protocol, switching from an atypical antipsychotic to a mood stabilizer without warning. The person has no prior experience with this new medication, and it may require adjustments to their daily routine and coping mechanisms.\n",
      "\n",
      "What would be the most effective approach for the therapist to take in order to help this individual adapt to the change in treatment protocol, while minimizing potential negative consequences on their mental health?\n",
      "\n",
      "Your job is to evaluate each response for clarity and strength of argument, and rank them in order of best to worst.\n",
      "Respond with JSON, and only JSON, with the following format:\n",
      "{\"results\": [\"best competitor number\", \"second best competitor number\", \"third best competitor number\", ...]}\n",
      "\n",
      "Here are the responses from each competitor:\n",
      "\n",
      "# Response from competitor 1\n",
      "\n",
      "In such a scenario, the therapist should employ a collaborative and gradual approach to help the individual adapt to the new medication and minimize potential negative consequences. Here's a step-by-step guide for the therapist:\n",
      "\n",
      "1. **Preparation**:\n",
      "\t* Before announcing the changes, review the individual's treatment history, current symptoms, and previous responses to different medications.\n",
      "\t* Ensure that the new mood stabilizer is selected based on evidence-based guidelines and the individual's specific needs.\n",
      "2. **Informed Consent**:\n",
      "\t* Explain the reasons for changing the medication regimen in a clear and concise manner, ensuring the individual understands the benefits and potential risks of the new treatment.\n",
      "\t* Obtain informed consent, addressing any questions or concerns the person may have.\n",
      "3. **Gradual Transition**:\n",
      "\t* Start by tapering off the atypical antipsychotic at least 2-4 weeks before switching to the mood stabilizer, under close supervision to avoid withdrawal symptoms.\n",
      "\t* Monitor the individual's mental health symptoms during this period and adjust the transition as needed.\n",
      "4. **Communication**:\n",
      "\t* Schedule regular check-ins with the individual to monitor their progress, address concerns, and provide ongoing support.\n",
      "\t* Encourage open communication about any side effects, changes in mood or thought patterns, or difficulties adjusting to the new medication.\n",
      "5. **Coping Mechanism Re-Alignment**:\n",
      "\t* Work with the individual to reassess and adjust their daily routine, coping mechanisms, and self-care strategies as needed to accommodate the new medication.\n",
      "\t* Encourage them to implement relaxation techniques, stress management strategies, and creative outlets to help mitigate any potential side effects or mood swings.\n",
      "6. **Education and Support**:\n",
      "\t* Provide clear and concise information about the new medication, its potential effects, and monitoring procedures.\n",
      "\t* Introduce the individual to relevant resources, such as support groups, online forums, or mental health professionals specializing in mood stabilizer use.\n",
      "7. **Monitoring and Adjustment**:\n",
      "\t* Regularly review the individual's progress, adjusting the treatment plan as needed based on their response to the new medication.\n",
      "\t* Collaborate with other healthcare providers (e.g., primary care physician, specialized nurse practitioners) to ensure comprehensive care.\n",
      "\n",
      "By taking a gradual, collaborative, and informed approach, the therapist can help the individual adapt to the change in treatment protocol, manage potential side effects, and minimize negative consequences on their mental health.\n",
      "\n",
      "\n",
      "\n",
      "Now respond with the JSON with the ranked order of the competitors, nothing else. Do not include markdown formatting or code blocks.\n"
     ]
    }
   ],
   "source": [
    "print(judge)"
   ]
  },
  {
   "cell_type": "code",
   "execution_count": 20,
   "metadata": {},
   "outputs": [],
   "source": [
    "judge_messages = [{\"role\": \"user\", \"content\": judge}]"
   ]
  },
  {
   "cell_type": "code",
   "execution_count": 24,
   "metadata": {},
   "outputs": [],
   "source": [
    "judge_response = chat(model=\"llama3.2\", messages=judge_messages)\n",
    "judge_results: str = judge_response.message.content"
   ]
  },
  {
   "cell_type": "code",
   "execution_count": 28,
   "metadata": {},
   "outputs": [
    {
     "name": "stdout",
     "output_type": "stream",
     "text": [
      "2\n"
     ]
    }
   ],
   "source": [
    "print(judge_results)\n"
   ]
  },
  {
   "cell_type": "code",
   "execution_count": 29,
   "metadata": {},
   "outputs": [
    {
     "name": "stdout",
     "output_type": "stream",
     "text": [
      "llama3.2\n"
     ]
    }
   ],
   "source": [
    "print(competitor)"
   ]
  },
  {
   "cell_type": "code",
   "execution_count": null,
   "metadata": {},
   "outputs": [],
   "source": [
    "# Judgement time!\n",
    "\n",
    "openai = OpenAI()\n",
    "response = openai.chat.completions.create(\n",
    "    model=\"o3-mini\",\n",
    "    messages=judge_messages,\n",
    ")\n",
    "results = response.choices[0].message.content\n",
    "print(results)\n"
   ]
  },
  {
   "cell_type": "code",
   "execution_count": 26,
   "metadata": {},
   "outputs": [
    {
     "name": "stdout",
     "output_type": "stream",
     "text": [
      "Rank 1: llama3.2\n"
     ]
    },
    {
     "ename": "IndexError",
     "evalue": "list index out of range",
     "output_type": "error",
     "traceback": [
      "\u001b[31m---------------------------------------------------------------------------\u001b[39m",
      "\u001b[31mIndexError\u001b[39m                                Traceback (most recent call last)",
      "\u001b[36mCell\u001b[39m\u001b[36m \u001b[39m\u001b[32mIn[26]\u001b[39m\u001b[32m, line 6\u001b[39m\n\u001b[32m      4\u001b[39m ranks = results_dict[\u001b[33m\"\u001b[39m\u001b[33mresults\u001b[39m\u001b[33m\"\u001b[39m]\n\u001b[32m      5\u001b[39m \u001b[38;5;28;01mfor\u001b[39;00m index, judge_results \u001b[38;5;129;01min\u001b[39;00m \u001b[38;5;28menumerate\u001b[39m(ranks):\n\u001b[32m----> \u001b[39m\u001b[32m6\u001b[39m     competitor = \u001b[43mcompetitors\u001b[49m\u001b[43m[\u001b[49m\u001b[38;5;28;43mint\u001b[39;49m\u001b[43m(\u001b[49m\u001b[43mjudge_results\u001b[49m\u001b[43m)\u001b[49m\u001b[43m-\u001b[49m\u001b[32;43m1\u001b[39;49m\u001b[43m]\u001b[49m\n\u001b[32m      7\u001b[39m     \u001b[38;5;28mprint\u001b[39m(\u001b[33mf\u001b[39m\u001b[33m\"\u001b[39m\u001b[33mRank \u001b[39m\u001b[38;5;132;01m{\u001b[39;00mindex+\u001b[32m1\u001b[39m\u001b[38;5;132;01m}\u001b[39;00m\u001b[33m: \u001b[39m\u001b[38;5;132;01m{\u001b[39;00mcompetitor\u001b[38;5;132;01m}\u001b[39;00m\u001b[33m\"\u001b[39m)\n",
      "\u001b[31mIndexError\u001b[39m: list index out of range"
     ]
    }
   ],
   "source": [
    "# OK let's turn this into results!\n",
    "\n",
    "results_dict = json.loads(judge_results)\n",
    "ranks = results_dict[\"results\"]\n",
    "for index, judge_results in enumerate(ranks):\n",
    "    competitor = competitors[int(judge_results)-1]\n",
    "    print(f\"Rank {index+1}: {competitor}\")"
   ]
  },
  {
   "cell_type": "markdown",
   "metadata": {},
   "source": [
    "<table style=\"margin: 0; text-align: left; width:100%\">\n",
    "    <tr>\n",
    "        <td style=\"width: 150px; height: 150px; vertical-align: middle;\">\n",
    "            <img src=\"../assets/exercise.png\" width=\"150\" height=\"150\" style=\"display: block;\" />\n",
    "        </td>\n",
    "        <td>\n",
    "            <h2 style=\"color:#ff7800;\">Exercise</h2>\n",
    "            <span style=\"color:#ff7800;\">Which pattern(s) did this use? Try updating this to add another Agentic design pattern.\n",
    "            </span>\n",
    "        </td>\n",
    "    </tr>\n",
    "</table>"
   ]
  },
  {
   "cell_type": "markdown",
   "metadata": {},
   "source": [
    "<table style=\"margin: 0; text-align: left; width:100%\">\n",
    "    <tr>\n",
    "        <td style=\"width: 150px; height: 150px; vertical-align: middle;\">\n",
    "            <img src=\"../assets/business.png\" width=\"150\" height=\"150\" style=\"display: block;\" />\n",
    "        </td>\n",
    "        <td>\n",
    "            <h2 style=\"color:#00bfff;\">Commercial implications</h2>\n",
    "            <span style=\"color:#00bfff;\">These kinds of patterns - to send a task to multiple models, and evaluate results,\n",
    "            are common where you need to improve the quality of your LLM response. This approach can be universally applied\n",
    "            to business projects where accuracy is critical.\n",
    "            </span>\n",
    "        </td>\n",
    "    </tr>\n",
    "</table>"
   ]
  }
 ],
 "metadata": {
  "kernelspec": {
   "display_name": "agents",
   "language": "python",
   "name": "python3"
  },
  "language_info": {
   "codemirror_mode": {
    "name": "ipython",
    "version": 3
   },
   "file_extension": ".py",
   "mimetype": "text/x-python",
   "name": "python",
   "nbconvert_exporter": "python",
   "pygments_lexer": "ipython3",
   "version": "3.12.2"
  }
 },
 "nbformat": 4,
 "nbformat_minor": 2
}
